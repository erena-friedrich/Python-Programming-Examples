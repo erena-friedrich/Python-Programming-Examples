{
 "cells": [
  {
   "cell_type": "code",
   "execution_count": 1,
   "metadata": {},
   "outputs": [],
   "source": [
    "import pandas as pd\n",
    "import random"
   ]
  },
  {
   "cell_type": "code",
   "execution_count": 3,
   "metadata": {},
   "outputs": [],
   "source": [
    "class DailyProfile:\n",
    "    \"\"\" Daily profile contains a series of values on a regular interval for a single day.\n",
    "        Thus the profile is a dictionary with time, value items\n",
    "        The expectation is that the time is in seconds from midnight \"\"\"\n",
    "\n",
    "    def __init__(self, date, sampling_frequency, profile={}):\n",
    "        self.date = date\n",
    "        self.profile = profile\n",
    "        self.sampling_frequency = sampling_frequency\n",
    "\n",
    "    \"\"\"Creates ficticious daily profiles of time:value pairs\"\"\"\n",
    "    def create_ranprof(self):\n",
    "        \"\"\"Create a single profile of random data in a 24hr time frame.  Time delta is minutes from midnight\"\"\"\n",
    "        deltat = 1440   # 24 * 60 minutes from midnight\n",
    "        for time in range(deltat):\n",
    "            value = round(random.uniform(1, 101), 2)\n",
    "            self.profile[time] = value\n",
    "\n",
    "    def profile_as_dataframe(self):\n",
    "        \"\"\"Create a dataframe from the dictionary values\"\"\"\n",
    "        df = pd.DataFrame.from_dict(self.profile, orient='index')\n",
    "        df.columns = [self.date]\n",
    "        return df\n",
    "\n",
    "    def length(self):\n",
    "        return len(self.profile)"
   ]
  },
  {
   "cell_type": "code",
   "execution_count": 6,
   "metadata": {},
   "outputs": [],
   "source": [
    "dp = DailyProfile(\"08-30-2018\", 900)"
   ]
  },
  {
   "cell_type": "code",
   "execution_count": 7,
   "metadata": {},
   "outputs": [],
   "source": [
    "dp.create_ranprof()"
   ]
  },
  {
   "cell_type": "code",
   "execution_count": 10,
   "metadata": {},
   "outputs": [
    {
     "data": {
      "text/plain": [
       "1440"
      ]
     },
     "execution_count": 10,
     "metadata": {},
     "output_type": "execute_result"
    }
   ],
   "source": [
    "dp.length()"
   ]
  },
  {
   "cell_type": "code",
   "execution_count": 14,
   "metadata": {},
   "outputs": [],
   "source": [
    "#dp.profile_as_dataframe() - creates a dataframe with 1440 values"
   ]
  }
 ],
 "metadata": {
  "kernelspec": {
   "display_name": "Python 3",
   "language": "python",
   "name": "python3"
  },
  "language_info": {
   "codemirror_mode": {
    "name": "ipython",
    "version": 3
   },
   "file_extension": ".py",
   "mimetype": "text/x-python",
   "name": "python",
   "nbconvert_exporter": "python",
   "pygments_lexer": "ipython3",
   "version": "3.6.4"
  }
 },
 "nbformat": 4,
 "nbformat_minor": 2
}
