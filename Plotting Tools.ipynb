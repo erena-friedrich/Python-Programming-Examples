{
 "cells": [
  {
   "cell_type": "code",
   "execution_count": null,
   "metadata": {},
   "outputs": [],
   "source": [
    "# This is just a quick routine to plot some weather data (temperature or humidity).  The code uses the WeatherReader\n",
    "# class (see Jupyter notebook \"Time Series in Python\" in this repository) to read in the data and Pandas \n",
    "# to_datetime routine to handle the dates.\n",
    "# Note: This code won't run correctly without a data file with temperature and humidity data for input\n",
    "\n",
    "from app.weather_reader import WeatherReader\n",
    "import matplotlib.pyplot as plt\n",
    "import pandas as pd\n",
    "\n",
    "path = '../data/KOSUWeather.csv'\n",
    "\n",
    "class PlottingTools:\n",
    "    \n",
    "    def __init__(self, startdate = 'x', enddate = 'y'):\n",
    "        self.startdate = startdate\n",
    "        self.enddate = enddate\n",
    "        \n",
    "    def plot_weather_data(self, date_str = None, path)\n",
    "    \"\"\"Plot hourly weather data\"\"\"\n",
    "    \n",
    "    date = pd.to_datetime(date_str)\n",
    "    \n",
    "    #First plot temperature\n",
    "    wr = WeatherReader(path, 'temp')\n",
    "    data = wr.get_daily_data(date)\n",
    "    \n",
    "    #Now plot humidity\n",
    "    wr2 = WeatherReader(path, 'humidity')\n",
    "    data2 = wr2.get_daily_data(date)\n",
    "    \n",
    "    plt.figure(figsize=(15,5))\n",
    "    plt.subplot(121)\n",
    "    plt.plot(data)\n",
    "    plt.title('Temperature data (' +date_str+ ')')\n",
    "    plt.xlabel('Time (hr)')\n",
    "    plt.ylabel('Temp (F)')\n",
    "    \n",
    "    plt.subplot(122)\n",
    "    plt.plot(data2)\n",
    "    plt.title('Humidity Data (' +date_str+ ')')\n",
    "    plt.xlabel('Time (hr)')\n",
    "    plt.ylabel('Humidity (%)')\n",
    "    plt.subplots_adjust(left = 0.1, wspace = 0.8, top = 0.8)\n",
    "    plt.show()\n",
    "    "
   ]
  }
 ],
 "metadata": {
  "kernelspec": {
   "display_name": "Python 3",
   "language": "python",
   "name": "python3"
  },
  "language_info": {
   "codemirror_mode": {
    "name": "ipython",
    "version": 3
   },
   "file_extension": ".py",
   "mimetype": "text/x-python",
   "name": "python",
   "nbconvert_exporter": "python",
   "pygments_lexer": "ipython3",
   "version": "3.6.4"
  }
 },
 "nbformat": 4,
 "nbformat_minor": 2
}
